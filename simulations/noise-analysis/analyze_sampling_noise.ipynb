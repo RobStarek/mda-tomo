{
 "cells": [
  {
   "cell_type": "code",
   "execution_count": 61,
   "id": "1084590e",
   "metadata": {},
   "outputs": [],
   "source": [
    "import dataclasses\n",
    "import functools\n",
    "import itertools\n",
    "\n",
    "import numpy as np\n",
    "import matplotlib.pyplot as plt\n",
    "import KetSugar as ks\n",
    "import MaxLik as ml\n",
    "import HammerProj as hp\n",
    "from scipy.optimize import minimize\n",
    "\n",
    "from tqdm.notebook import tqdm\n"
   ]
  },
  {
   "cell_type": "code",
   "execution_count": 62,
   "id": "ccf20f9e",
   "metadata": {},
   "outputs": [],
   "source": [
    "samplings = np.load('probes_samplings.npz')\n",
    "cal_sampl = samplings['n30']\n",
    "test_sampl = samplings['n108']\n",
    "\n",
    "cal_states = np.array([ks.BlochKet(theta, phi) for theta, phi in cal_sampl])\n",
    "test_states = np.array([ks.BlochKet(theta, phi) for theta, phi in test_sampl])"
   ]
  },
  {
   "cell_type": "code",
   "execution_count": 63,
   "id": "11555280",
   "metadata": {},
   "outputs": [],
   "source": [
    "def procrute_rot(vecs_ref: np.ndarray, vecs_test: np.ndarray) -> np.ndarray:\n",
    "    \"\"\"\n",
    "    Compute the optimal rotation matrix that aligns vecs_test to vecs_ref using the Kabsch algorithm.\n",
    "\n",
    "    Parameters:\n",
    "        vecs_ref (np.ndarray): Reference vectors of shape (N, 3).\n",
    "        vecs_test (np.ndarray): Test vectors to be rotated, of shape (N, 3).\n",
    "\n",
    "    Returns:\n",
    "        np.ndarray: The optimal 3x3 rotation matrix.\n",
    "    \"\"\"\n",
    "    n1, dim1 = vecs_ref.shape\n",
    "    n2, dim2 = vecs_test.shape\n",
    "    assert n1 == n2, \"Input arrays must have the same number of vectors\"\n",
    "    assert dim1 == 3 and dim2 == 3, \"Input vectors must be 3-dimensional\"\n",
    "    # Covariance matrix\n",
    "    H = vecs_ref.T @ vecs_test\n",
    "    U, sigma, Vh = np.linalg.svd(H)\n",
    "    d = np.linalg.det(U @ Vh)\n",
    "    rot = U @ np.diag([1, 1, d]) @ Vh\n",
    "    return rot\n",
    "\n",
    "def ket_to_bloch_v(ket):\n",
    "    ket = ket.ravel()\n",
    "    theta = 2*np.angle(np.abs(ket[0]) + 1j*np.abs(ket[1]))\n",
    "    phi = np.angle(ket[1]) - np.angle(ket[0])\n",
    "    x = np.sin(theta)*np.cos(phi)\n",
    "    y = np.sin(theta)*np.sin(phi)\n",
    "    z = np.cos(theta)\n",
    "    return np.array((x,y,z))\n",
    "\n",
    "def meas_relative_fidelity_all(rhos_ref, rhos_test):\n",
    "    #find dominant eigenvectors and turn them to Bloch\n",
    "    bloch_ref = np.zeros((rhos_ref.shape[0],3))\n",
    "    bloch_test = np.zeros((rhos_test.shape[0],3))\n",
    "    eigval_test = np.zeros((rhos_test.shape[0],1))\n",
    "    for i, r in enumerate(rhos_test):\n",
    "        eigvalues, eigvectors = np.linalg.eigh(r)\n",
    "        bloch_test[i] = ket_to_bloch_v(eigvectors[:,-1])\n",
    "        eigval_test[i] = eigvalues[-1]\n",
    "    for i, r in enumerate(rhos_ref):\n",
    "        eigvalues, eigvectors = np.linalg.eigh(r)\n",
    "        bloch_ref[i] = ket_to_bloch_v(eigvectors[:,-1])\n",
    "    #use procrute analysis to find optimal rotation\n",
    "    rot = procrute_rot(bloch_ref, bloch_test)\n",
    "    bloch_mapped_test = (rot @ bloch_test.T).T\n",
    "\n",
    "    #calculate deviations of Bloch vector and turn them into fidelities\n",
    "    #scalar product of reference and mapped test\n",
    "    cos_deltas = np.clip(np.sum(bloch_ref * bloch_mapped_test, axis=1),-1,1)\n",
    "    \n",
    "    #fidelity of dominant eigenvector\n",
    "    domfid = (cos_deltas + 1)*0.5\n",
    "    #overall fidelity\n",
    "    fid = eigval_test*domfid + (1-eigval_test)*(1-domfid)\n",
    "    return domfid, fid\n",
    "\n",
    "def meas_relative_fidelity_worst(rhos_ref, rhos_test):\n",
    "    domfid, fid = meas_relative_fidelity_all(rhos_ref, rhos_test)\n",
    "    return np.min(domfid), np.min(fid)"
   ]
  },
  {
   "cell_type": "code",
   "execution_count": 64,
   "id": "b7256aaa",
   "metadata": {},
   "outputs": [],
   "source": [
    "rotations_tomo_proj = np.array((\n",
    "    (0,0),\n",
    "    (np.pi,0),\n",
    "    (np.pi/2, 0),\n",
    "    (np.pi/2, np.pi),\n",
    "    (np.pi/2, 1*np.pi/2),\n",
    "    (np.pi/2, 3*np.pi/2)\n",
    "))\n",
    "\n",
    "\n",
    "def get_assumed_rpv(errors):\n",
    "    coords = rotations_tomo_proj + errors.reshape((6,2))\n",
    "    coss = np.cos(coords[:,0]/2)\n",
    "    sins = np.sin(coords[:,0]/2)\n",
    "    exps = np.exp(1j*coords[:,1])\n",
    "    pis = np.zeros((6,2,1), dtype=np.complex128)\n",
    "    pis[:,0,0] = coss\n",
    "    pis[:,1,0] = sins*exps\n",
    "    return np.einsum('ki,kj->kij', pis.reshape((-1,2)), pis.conj().reshape((-1,2)))\n",
    "\n",
    "# def get_assumed_rpv(errors):\n",
    "#     coords = rotations_tomo_proj + errors.reshape((6,2))\n",
    "#     proj_kets = [ks.BlochKet(theta, phi) for theta, phi in coords]\n",
    "#     return np.array([ket @ ket.T.conjugate() for ket in proj_kets])\n",
    "\n",
    "def simulate_tomograms_pc(probes_coord, errors, counts=1_000_000):\n",
    "    tomograms = []\n",
    "    noise = 0.001\n",
    "    rpv_true = get_assumed_rpv(errors)\n",
    "    for theta, phi in probes_coord:\n",
    "        probe_ket = ks.BlochKet(theta, phi)\n",
    "        tomogram = np.array([ks.ExpectationValue(probe_ket, proj).real for proj in rpv_true])         \n",
    "        tomograms.append(tomogram*(1-noise) + noise)\n",
    "    tomograms = np.array(tomograms)\n",
    "    return np.random.poisson(tomograms*counts)\n",
    "\n",
    "def simulate_tomograms_pc_noiseless(probes_coord, errors):\n",
    "    tomograms = []\n",
    "    noise = 0.001\n",
    "    rpv_true = get_assumed_rpv(errors)\n",
    "    for theta, phi in probes_coord:\n",
    "        probe_ket = ks.BlochKet(theta, phi)\n",
    "        tomogram = np.array([ks.ExpectationValue(probe_ket, proj).real for proj in rpv_true])         \n",
    "        tomograms.append(tomogram*(1-noise) + noise)\n",
    "    tomograms = np.array(tomograms)\n",
    "    return tomograms\n",
    "\n",
    "butterfly = lambda x: ks.ketbra(x, x)\n"
   ]
  },
  {
   "cell_type": "code",
   "execution_count": 65,
   "id": "f730a768",
   "metadata": {},
   "outputs": [],
   "source": [
    "ML_ITERS = 10_000\n",
    "ML_THR = 1e-9\n",
    "\n",
    "def map_tomograms(tomos, pis):\n",
    "    return np.array([ml.Reconstruct(t, pis, ML_ITERS, ML_THR, RhoPiVect = True, Renorm = True) for t in tomos])\n",
    "\n",
    "@dataclasses.dataclass\n",
    "class AnalysisData:\n",
    "    pur_naive : np.ndarray\n",
    "    pur_true  : np.ndarray\n",
    "    pur_opt   : np.ndarray\n",
    "    dev_mae_naive : np.ndarray\n",
    "    dev_mae_true  : np.ndarray\n",
    "    dev_mae_opt   : np.ndarray\n",
    "    rhos_opt  : np.ndarray\n",
    "\n",
    "@dataclasses.dataclass\n",
    "class PostAnalysisData:\n",
    "    nai_min_pur : float\n",
    "    nai_ptp_pur : float\n",
    "    tru_min_pur : float\n",
    "    tru_ptp_pur : float    \n",
    "    opt_min_pur : float\n",
    "    opt_ptp_pur : float    \n",
    "    #-----\n",
    "    nai_max_dmae : float\n",
    "    nai_mean_dmae : float\n",
    "    tru_max_dmae : float\n",
    "    tru_mean_dmae : float    \n",
    "    opt_max_dmae : float\n",
    "    opt_mean_dmae : float  \n",
    "\n",
    "\n",
    "def postanalyze(analysis : AnalysisData):\n",
    "    return PostAnalysisData(\n",
    "        nai_min_pur = np.min(analysis.pur_naive),\n",
    "        nai_ptp_pur = np.ptp(analysis.pur_naive),\n",
    "        tru_min_pur = np.min(analysis.pur_true),\n",
    "        tru_ptp_pur = np.ptp(analysis.pur_true),\n",
    "        opt_min_pur = np.min(analysis.pur_opt),\n",
    "        opt_ptp_pur = np.ptp(analysis.pur_opt),\n",
    "        nai_max_dmae = np.min(analysis.dev_mae_naive),\n",
    "        nai_mean_dmae = np.mean(analysis.dev_mae_naive),\n",
    "        tru_max_dmae = np.min(analysis.dev_mae_true),\n",
    "        tru_mean_dmae = np.mean(analysis.dev_mae_true),\n",
    "        opt_max_dmae = np.min(analysis.dev_mae_opt),\n",
    "        opt_mean_dmae = np.mean(analysis.dev_mae_opt)\n",
    "    )\n",
    "\n",
    "def preanalyze(tomos, optim_err, true_err, reference_kets):    \n",
    "    pi_opt = get_assumed_rpv(optim_err)\n",
    "    pi_true = get_assumed_rpv(true_err)\n",
    "    pi_naive = get_assumed_rpv(np.zeros(12))\n",
    "    rho_opt = map_tomograms(tomos, pi_opt)\n",
    "    rho_true = map_tomograms(tomos, pi_true)\n",
    "    rho_naive = map_tomograms(tomos, pi_naive)\n",
    "    rho_ideal = np.array([ks.ketbra(ket, ket) for ket in reference_kets])\n",
    "\n",
    "    purs_naive = np.array([ks.Purity(r).real for r in rho_naive])\n",
    "    purs_true = np.array([ks.Purity(r).real for r in rho_true])\n",
    "    purs_opt = np.array([ks.Purity(r).real for r in rho_opt])\n",
    "\n",
    "    INDEX_FID = 1 #0 | 1 ... 0 is dominant term, 1 is overall\n",
    "    dev_mae_true = meas_relative_fidelity_all(rho_ideal, rho_true)[INDEX_FID]\n",
    "    dev_mae_opt = meas_relative_fidelity_all(rho_ideal, rho_opt)[INDEX_FID]\n",
    "    dev_mae_naive = meas_relative_fidelity_all(rho_ideal, rho_naive)[INDEX_FID]\n",
    "\n",
    "    return AnalysisData(\n",
    "        pur_naive = purs_naive,\n",
    "        pur_true = purs_true,\n",
    "        pur_opt = purs_opt,\n",
    "        dev_mae_naive = dev_mae_naive,\n",
    "        dev_mae_true = dev_mae_true,\n",
    "        dev_mae_opt = dev_mae_opt,\n",
    "        rhos_opt = rho_opt\n",
    "    )\n",
    "\n",
    "def generate_tests(reference_coords, pis, shots):\n",
    "    tomograms = []\n",
    "    noise = 0#0.001\n",
    "    reference_kets = []\n",
    "    for theta, phi in reference_coords:\n",
    "        probe_ket = ks.BlochKet(theta, phi)\n",
    "        reference_kets.append(probe_ket)\n",
    "        tomogram = np.array([ks.ExpectationValue(probe_ket, proj).real for proj in pis])         \n",
    "        tomograms.append(tomogram*(1-noise) + noise)\n",
    "    tomograms = np.array(tomograms)\n",
    "    if shots is None:\n",
    "        return tomograms, np.array(reference_kets)\n",
    "    return np.random.poisson(tomograms*shots), np.array(reference_kets)\n",
    "\n",
    "def analyze_tests(reference_coords, shots, optim_err, true_err):    \n",
    "    pi_true = get_assumed_rpv(true_err)\n",
    "    tomograms, reference_kets = generate_tests(reference_coords, pi_true, shots)\n",
    "    analyzed = preanalyze(tomograms, optim_err, true_err, reference_kets)\n",
    "    return analyzed\n",
    "\n",
    "def analyze_data(input_data_file, output_data_file, shots):\n",
    "    inp_datas = np.load(input_data_file)\n",
    "    calibration_tomos = inp_datas['test_data']\n",
    "    true_value = inp_datas['truths']\n",
    "    opt_results = np.genfromtxt(output_data_file)\n",
    "    opt_params = opt_results[:, 2:]\n",
    "    n = min(calibration_tomos.shape[0], opt_results.shape[0])\n",
    "    results = []\n",
    "    for index in tqdm(range(n)):\n",
    "        # print(index, end='\\r')\n",
    "        calib_analysis = preanalyze(calibration_tomos[index], opt_params[index], true_value[index], cal_states)                \n",
    "        test_analysis = analyze_tests(test_sampl, shots, opt_params[index], true_value[index])\n",
    "        post_calib_analysis = postanalyze(calib_analysis)\n",
    "        post_test_analysis = postanalyze(test_analysis)\n",
    "        results.append((post_calib_analysis, post_test_analysis))\n",
    "    # print('.')\n",
    "    return results\n",
    "\n",
    "def aggregate_array(arr : np.ndarray) -> np.ndarray:\n",
    "    \"\"\"Turn array into its median, stdev, low and hi quantile\"\"\"\n",
    "    Qlo = 0.158\n",
    "    Qhi = 1 - Qlo\n",
    "    median = np.quantile(arr, 0.5)\n",
    "    low = np.quantile(arr, Qlo)\n",
    "    hi = np.quantile(arr, Qhi)\n",
    "    std = np.std(arr)\n",
    "    return np.array((median, std, low, hi))\n",
    "\n",
    "def analyze_bulk(results : list[PostAnalysisData]):\n",
    "    keys_of_interest = [\n",
    "        \"nai_min_pur\",\n",
    "        \"tru_min_pur\",\n",
    "        \"opt_min_pur\",\n",
    "        \"nai_max_dmae\",\n",
    "        \"tru_max_dmae\",\n",
    "        \"opt_max_dmae\"\n",
    "    ]\n",
    "    oresults =  np.zeros((len(keys_of_interest), 4))\n",
    "    for i, key in enumerate(keys_of_interest):\n",
    "        _array = np.array([getattr(r_test, key) for _, r_test in results])\n",
    "        #statistical description of monte carlo samples\n",
    "        _stats = aggregate_array(_array) \n",
    "        # print(key, _stats.shape)\n",
    "        oresults[i,:] = _stats\n",
    "    return oresults\n",
    "\n",
    "\n",
    "# pur/fid, nai/tru/opt, cal/test, mean/std\n",
    "    "
   ]
  },
  {
   "cell_type": "code",
   "execution_count": 66,
   "id": "fcf72142",
   "metadata": {},
   "outputs": [
    {
     "name": "stdout",
     "output_type": "stream",
     "text": [
      "nai_min_pur\n",
      "nai_ptp_pur\n",
      "tru_min_pur\n",
      "tru_ptp_pur\n",
      "opt_min_pur\n",
      "opt_ptp_pur\n",
      "nai_max_dmae\n",
      "nai_mean_dmae\n",
      "tru_max_dmae\n",
      "tru_mean_dmae\n",
      "opt_max_dmae\n",
      "opt_mean_dmae\n"
     ]
    }
   ],
   "source": [
    "for key in dataclasses.fields(PostAnalysisData):\n",
    "    print(key.name)"
   ]
  },
  {
   "cell_type": "code",
   "execution_count": 67,
   "id": "83060233",
   "metadata": {},
   "outputs": [
    {
     "data": {
      "text/plain": [
       "0"
      ]
     },
     "execution_count": 67,
     "metadata": {},
     "output_type": "execute_result"
    }
   ],
   "source": [
    "test = PostAnalysisData(*([0]*12))\n",
    "\n",
    "getattr(test, 'nai_max_dmae')"
   ]
  },
  {
   "cell_type": "code",
   "execution_count": 68,
   "id": "02f3e591",
   "metadata": {},
   "outputs": [
    {
     "name": "stdout",
     "output_type": "stream",
     "text": [
      "100 100\n"
     ]
    },
    {
     "data": {
      "application/vnd.jupyter.widget-view+json": {
       "model_id": "a1d695653fa94dcc866ec2f6e96f4685",
       "version_major": 2,
       "version_minor": 0
      },
      "text/plain": [
       "  0%|          | 0/50 [00:00<?, ?it/s]"
      ]
     },
     "metadata": {},
     "output_type": "display_data"
    },
    {
     "name": "stdout",
     "output_type": "stream",
     "text": [
      "1000 1k\n"
     ]
    },
    {
     "data": {
      "application/vnd.jupyter.widget-view+json": {
       "model_id": "508d326fc3ba4669a16a12d0ca450f7d",
       "version_major": 2,
       "version_minor": 0
      },
      "text/plain": [
       "  0%|          | 0/50 [00:00<?, ?it/s]"
      ]
     },
     "metadata": {},
     "output_type": "display_data"
    },
    {
     "name": "stdout",
     "output_type": "stream",
     "text": [
      "10000 10k\n"
     ]
    },
    {
     "data": {
      "application/vnd.jupyter.widget-view+json": {
       "model_id": "1226d1e571ec48368ba6de5047e11ec1",
       "version_major": 2,
       "version_minor": 0
      },
      "text/plain": [
       "  0%|          | 0/50 [00:00<?, ?it/s]"
      ]
     },
     "metadata": {},
     "output_type": "display_data"
    },
    {
     "name": "stdout",
     "output_type": "stream",
     "text": [
      "100000 100k\n"
     ]
    },
    {
     "data": {
      "application/vnd.jupyter.widget-view+json": {
       "model_id": "9ae54165a83f4c9f8a93bdab208b2806",
       "version_major": 2,
       "version_minor": 0
      },
      "text/plain": [
       "  0%|          | 0/49 [00:00<?, ?it/s]"
      ]
     },
     "metadata": {},
     "output_type": "display_data"
    },
    {
     "name": "stdout",
     "output_type": "stream",
     "text": [
      "None inf\n"
     ]
    },
    {
     "data": {
      "application/vnd.jupyter.widget-view+json": {
       "model_id": "3779185af2c748f88644bde3cbb47624",
       "version_major": 2,
       "version_minor": 0
      },
      "text/plain": [
       "  0%|          | 0/50 [00:00<?, ?it/s]"
      ]
     },
     "metadata": {},
     "output_type": "display_data"
    }
   ],
   "source": [
    "cnts_quantifier = '100k'\n",
    "quants = ['100', '1k', '10k', '100k', 'inf']\n",
    "# quants = ['100', '1k', '10k', 'inf']\n",
    "#cnts = [100, 1000, 10_000, 100_000]\n",
    "cnts = [100, 1000, 10_000, 100_000, None]\n",
    "\n",
    "results_collection = []\n",
    "for cnt, qant in zip(cnts, quants):\n",
    "    print(cnt, qant)\n",
    "    r = analyze_bulk(analyze_data(f'inputs/test_data_n30_5sigma_{qant}.npz', f'outputs/output_test_data_n30_5sigma_{qant}.txt', cnt))\n",
    "    results_collection.append(r)\n",
    "results_collection = np.array(results_collection)"
   ]
  },
  {
   "cell_type": "code",
   "execution_count": 69,
   "id": "1d64f660",
   "metadata": {},
   "outputs": [],
   "source": [
    "import h5py\n",
    "\n",
    "with h5py.File('output_smp_noise_30.h5', 'w') as f:\n",
    "    # Save the main data\n",
    "    dset = f.create_dataset('results_collection', data=results_collection)\n",
    "    # Add metadata as attributes\n",
    "    dset.attrs['description'] = (\n",
    "        \"Shape: (n_shots, n_metrics, n_stats). \"\n",
    "        \"n_shots: number of different shot counts (len(cnts)). \"\n",
    "        \"n_metrics: 6 metrics: \"\n",
    "        \"[nai_min_pur, tru_min_pur, opt_min_pur, nai_max_dmae, tru_max_dmae, opt_max_dmae]. \"\n",
    "        \"n_stats: 4 statistics: [median, std, low_quantile, high_quantile].\"\n",
    "    )\n",
    "    dset.attrs['cnts'] = list(cnts[:-1])+[np.inf]\n",
    "    #Warning, that 10M is actually a placeholder\n",
    "    dset.attrs['metrics'] = [\n",
    "        'nai_min_pur', 'tru_min_pur', 'opt_min_pur',\n",
    "        'nai_max_dmae', 'tru_max_dmae', 'opt_max_dmae'\n",
    "    ]\n",
    "    dset.attrs['statistics'] = ['median', 'std', 'low_quantile', 'high_quantile']"
   ]
  },
  {
   "cell_type": "code",
   "execution_count": 70,
   "id": "dceb4db4",
   "metadata": {},
   "outputs": [
    {
     "ename": "TypeError",
     "evalue": "unsupported operand type(s) for *: 'NoneType' and 'float'",
     "output_type": "error",
     "traceback": [
      "\u001b[1;31m---------------------------------------------------------------------------\u001b[0m",
      "\u001b[1;31mTypeError\u001b[0m                                 Traceback (most recent call last)",
      "Cell \u001b[1;32mIn[70], line 22\u001b[0m\n\u001b[0;32m     20\u001b[0m     errhi \u001b[38;5;241m=\u001b[39m results_collection[:,i,\u001b[38;5;241m3\u001b[39m] \u001b[38;5;241m-\u001b[39m mu\n\u001b[0;32m     21\u001b[0m     errlo \u001b[38;5;241m=\u001b[39m mu \u001b[38;5;241m-\u001b[39m results_collection[:,i,\u001b[38;5;241m2\u001b[39m]\n\u001b[1;32m---> 22\u001b[0m     ax1\u001b[38;5;241m.\u001b[39merrorbar(x \u001b[38;5;241m=\u001b[39m np\u001b[38;5;241m.\u001b[39marray(cnts)\u001b[38;5;241m*\u001b[39mx_vis_offset, y \u001b[38;5;241m=\u001b[39m mu, yerr \u001b[38;5;241m=\u001b[39m (errlo, errhi), fmt\u001b[38;5;241m=\u001b[39m\u001b[38;5;124m\"\u001b[39m\u001b[38;5;124m.\u001b[39m\u001b[38;5;124m\"\u001b[39m, label\u001b[38;5;241m=\u001b[39mlabel)\n\u001b[0;32m     23\u001b[0m     ax1\u001b[38;5;241m.\u001b[39mset_xscale(\u001b[38;5;124m'\u001b[39m\u001b[38;5;124mlog\u001b[39m\u001b[38;5;124m'\u001b[39m)\n\u001b[0;32m     24\u001b[0m ax1\u001b[38;5;241m.\u001b[39mlegend()\n",
      "\u001b[1;31mTypeError\u001b[0m: unsupported operand type(s) for *: 'NoneType' and 'float'"
     ]
    },
    {
     "data": {
      "image/png": "[encoded data removed]",
      "text/plain": [
       "<Figure size 640x480 with 2 Axes>"
      ]
     },
     "metadata": {},
     "output_type": "display_data"
    }
   ],
   "source": [
    "import matplotlib\n",
    "matplotlib.rcParams.update({'errorbar.capsize': 2})\n",
    "\n",
    "\n",
    "# keys_of_interest = [\n",
    "#     \"nai_min_pur\",\n",
    "#     \"tru_min_pur\",\n",
    "#     \"opt_min_pur\",\n",
    "#     \"nai_max_dmae\",\n",
    "#     \"tru_max_dmae\",\n",
    "#     \"opt_max_dmae\"\n",
    "# ]\n",
    "\n",
    "# pur/fid, nai/tru/opt, cal/test, mean/std\n",
    "fig, (ax1, ax2) = plt.subplots(2,1, sharex=True)\n",
    "\n",
    "for i, label in enumerate(('naive','optimal', 'true')):\n",
    "    x_vis_offset = (1+i/16)\n",
    "    mu = results_collection[:, i, 0]\n",
    "    errhi = results_collection[:,i,3] - mu\n",
    "    errlo = mu - results_collection[:,i,2]\n",
    "    ax1.errorbar(x = np.array(cnts)*x_vis_offset, y = mu, yerr = (errlo, errhi), fmt=\".\", label=label)\n",
    "    ax1.set_xscale('log')\n",
    "ax1.legend()\n",
    "ax1.grid()\n",
    "ax1.set_ylabel('$\\min\\,P$')\n",
    "\n",
    "for i, label in enumerate(('naive','optimal', 'true')):\n",
    "    x_vis_offset = (1+i/16)\n",
    "    mu = results_collection[:, i+3, 0]\n",
    "    errhi = results_collection[:,i+3,3] - mu\n",
    "    errlo = mu - results_collection[:,i+3,2]\n",
    "    ax2.errorbar(x = np.array(cnts)*x_vis_offset, y = mu, yerr = (errlo, errhi), fmt=\".\", label=label)\n",
    "    ax2.set_xscale('log')\n",
    "# ax2.legend()\n",
    "ax2.set_xlabel('shots')\n",
    "ax2.set_ylabel('$\\min F$')\n",
    "ax2.grid()\n",
    "plt.tight_layout()\n",
    "plt.show()\n",
    "\n",
    "#note: 1M = inf"
   ]
  },
  {
   "cell_type": "code",
   "execution_count": null,
   "id": "fcd55ea8",
   "metadata": {},
   "outputs": [
    {
     "data": {
      "image/png": "[encoded data removed]",
      "text/plain": [
       "<Figure size 640x480 with 2 Axes>"
      ]
     },
     "metadata": {},
     "output_type": "display_data"
    }
   ],
   "source": [
    "\n",
    "# pur/fid, nai/tru/opt, cal/test, mean/std\n",
    "fig, (ax1, ax2) = plt.subplots(2,1, sharex=True)\n",
    "\n",
    "for i, label in enumerate(('naive','optimal', 'true')):\n",
    "    x_vis_offset = (1+i/16)\n",
    "    xax = np.array(cnts)\n",
    "    xax[-1] = 1e6    \n",
    "    mu = results_collection[:, i, 0]\n",
    "    errhi = results_collection[:,i,3] - mu\n",
    "    errlo = mu - results_collection[:,i,2]\n",
    "    ax1.errorbar(x = xax*x_vis_offset, y = 1-mu, yerr = (errlo, errhi), fmt=\".\", label=label)\n",
    "    ax1.set_xscale('log')\n",
    "ax1.legend()\n",
    "ax1.grid()\n",
    "ax1.set_ylabel('$\\min\\,P$')\n",
    "\n",
    "for i, label in enumerate(('naive','optimal', 'true')):\n",
    "    xax = np.array(cnts)\n",
    "    xax[-1] = 1e6\n",
    "    x_vis_offset = (1+i/16)\n",
    "    mu = results_collection[:, i+3, 0]\n",
    "    errhi = results_collection[:,i+3,3] - mu\n",
    "    errlo = mu - results_collection[:,i+3,2]\n",
    "    ax2.errorbar(x = xax*x_vis_offset, y = 1-mu, yerr = (errlo, errhi), fmt=\".\", label=label)\n",
    "    ax2.set_xscale('log')\n",
    "# ax2.legend()\n",
    "ax2.set_xlabel('shots')\n",
    "ax2.set_ylabel('$\\min F$')\n",
    "ax2.grid()\n",
    "plt.tight_layout()\n",
    "plt.show()\n"
   ]
  },
  {
   "cell_type": "code",
   "execution_count": null,
   "id": "ad41fca2",
   "metadata": {},
   "outputs": [],
   "source": []
  }
 ],
 "metadata": {
  "kernelspec": {
   "display_name": "base",
   "language": "python",
   "name": "python3"
  },
  "language_info": {
   "codemirror_mode": {
    "name": "ipython",
    "version": 3
   },
   "file_extension": ".py",
   "mimetype": "text/x-python",
   "name": "python",
   "nbconvert_exporter": "python",
   "pygments_lexer": "ipython3",
   "version": "3.11.5"
  }
 },
 "nbformat": 4,
 "nbformat_minor": 5
}
