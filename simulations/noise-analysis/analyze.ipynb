{
 "cells": [
  {
   "cell_type": "code",
   "execution_count": 1,
   "id": "98c17f6a",
   "metadata": {},
   "outputs": [
    {
     "name": "stdout",
     "output_type": "stream",
     "text": [
      "MaxLik: Numba Allowed: True => use cycle-based K-vector construction\n"
     ]
    }
   ],
   "source": [
    "import dataclasses\n",
    "import functools\n",
    "import itertools\n",
    "\n",
    "import numpy as np\n",
    "from scipy.optimize import minimize\n",
    "import matplotlib.pyplot as plt\n",
    "\n",
    "from tqdm.notebook import tqdm\n",
    "\n",
    "import KetSugar as ks\n",
    "import MaxLik as ml\n",
    "\n",
    "\n",
    "samplings = np.load('probes_samplings.npz')\n",
    "cal_sampl = samplings['n32']\n",
    "test_sampl = samplings['n108']\n",
    "\n",
    "cal_states = np.array([ks.BlochKet(theta, phi) for theta, phi in cal_sampl])\n",
    "test_states = np.array([ks.BlochKet(theta, phi) for theta, phi in test_sampl])"
   ]
  },
  {
   "cell_type": "code",
   "execution_count": 2,
   "id": "f08c57a9",
   "metadata": {},
   "outputs": [],
   "source": [
    "rotations_tomo_proj = np.array((\n",
    "    (0,0),\n",
    "    (np.pi,0),\n",
    "    (np.pi/2, 0),\n",
    "    (np.pi/2, np.pi),\n",
    "    (np.pi/2, 1*np.pi/2),\n",
    "    (np.pi/2, 3*np.pi/2)\n",
    "))\n",
    "\n",
    "\n",
    "# def get_assumed_rpv(errors):\n",
    "#     coords = rotations_tomo_proj + errors.reshape((6,2))\n",
    "#     coss = np.cos(coords[:,0]/2)\n",
    "#     sins = np.sin(coords[:,0]/2)\n",
    "#     exps = np.exp(1j*coords[:,1])\n",
    "#     pis = np.zeros((6,2,1), dtype=np.complex128)\n",
    "#     pis[:,0,0] = coss\n",
    "#     pis[:,1,0] = sins*exps\n",
    "#     return np.einsum('ki,kj->kij', pis.reshape((-1,2)), pis.conj().reshape((-1,2)))\n",
    "\n",
    "def get_assumed_rpv(errors):\n",
    "    coords = rotations_tomo_proj + errors.reshape((6,2))\n",
    "    proj_kets = [ks.BlochKet(theta, phi) for theta, phi in coords]\n",
    "    return np.array([ket @ ket.T.conjugate() for ket in proj_kets])\n",
    "\n",
    "def simulate_tomograms_pc(probes_coord, errors, counts=1_000_000):\n",
    "    tomograms = []\n",
    "    noise = 0.001\n",
    "    rpv_true = get_assumed_rpv(errors)\n",
    "    for theta, phi in probes_coord:\n",
    "        probe_ket = ks.BlochKet(theta, phi)\n",
    "        tomogram = np.array([ks.ExpectationValue(probe_ket, proj).real for proj in rpv_true])         \n",
    "        tomograms.append(tomogram*(1-noise) + noise)\n",
    "    tomograms = np.array(tomograms)\n",
    "    return np.random.poisson(tomograms*counts)\n",
    "\n",
    "def simulate_tomograms_pc_noiseless(probes_coord, errors):\n",
    "    tomograms = []\n",
    "    noise = 0.001\n",
    "    rpv_true = get_assumed_rpv(errors)\n",
    "    for theta, phi in probes_coord:\n",
    "        probe_ket = ks.BlochKet(theta, phi)\n",
    "        tomogram = np.array([ks.ExpectationValue(probe_ket, proj).real for proj in rpv_true])         \n",
    "        tomograms.append(tomogram*(1-noise) + noise)\n",
    "    tomograms = np.array(tomograms)\n",
    "    return tomograms\n",
    "\n",
    "\n",
    "butterfly = lambda x: ks.ketbra(x, x)\n",
    "\n",
    "\n",
    "def rotation_y(alpha):\n",
    "    return butterfly(ks.CLO) + np.exp(1j*alpha)*butterfly(ks.CHI)\n",
    "\n",
    "def rotation_z(alpha):\n",
    "    return butterfly(ks.LO) + np.exp(1j*alpha)*butterfly(ks.HI)\n",
    "\n",
    "def find_rot(observed, ideal):\n",
    "    def cost_f(args):\n",
    "        y, z = args\n",
    "        u = rotation_z(z) @ rotation_y(y)\n",
    "        value = sum([np.abs((ks.dagger(ket_j) @ u @ ket_i)[0,0])**2 for ket_i, ket_j in zip(observed, ideal)])\n",
    "        return -value\n",
    "    x0 = np.random.normal(0, 0.001, 2)\n",
    "    optimum = minimize(cost_f, x0 = x0)\n",
    "    return optimum\n",
    "\n",
    "def try_to_fix_unitary(desired_kets, observed_rhos):\n",
    "    observed_kets = [np.linalg.eigh(rho)[1][:,-1].reshape((2,1)) for rho in observed_rhos]\n",
    "    optimum = find_rot(observed_kets, desired_kets)\n",
    "    \n",
    "    y, z = optimum['x']\n",
    "    try:\n",
    "        assert optimum['success']\n",
    "        u = rotation_z(z) @ rotation_y(y)    \n",
    "        return u\n",
    "    except:\n",
    "        print(\"Ooops, unitary finding failed.\")\n",
    "        return np.eye(2)"
   ]
  },
  {
   "cell_type": "code",
   "execution_count": 3,
   "id": "009cf355",
   "metadata": {},
   "outputs": [],
   "source": [
    "ML_ITERS = 10000\n",
    "ML_THR = 1e-7\n",
    "\n",
    "def map_tomograms(tomos, pis):\n",
    "    return np.array([ml.Reconstruct(t, pis, ML_ITERS, ML_THR, RhoPiVect = True, Renorm = True) for t in tomos])\n",
    "\n",
    "@dataclasses.dataclass\n",
    "class AnalysisData:\n",
    "    pur_naive : np.ndarray\n",
    "    pur_true  : np.ndarray\n",
    "    pur_opt   : np.ndarray\n",
    "    fid_naive : np.ndarray\n",
    "    fid_true  : np.ndarray\n",
    "    fid_opt   : np.ndarray\n",
    "    rhos_opt  : np.ndarray\n",
    "    rot_op    : np.ndarray\n",
    "\n",
    "@dataclasses.dataclass\n",
    "class PostAnalysisData:\n",
    "    nai_min_pur : float\n",
    "    nai_ptp_pur : float\n",
    "    tru_min_pur : float\n",
    "    tru_ptp_pur : float    \n",
    "    opt_min_pur : float\n",
    "    opt_ptp_pur : float    \n",
    "    #-----\n",
    "    nai_min_fid : float\n",
    "    nai_mean_fid : float\n",
    "    tru_min_fid : float\n",
    "    tru_mean_fid : float    \n",
    "    opt_min_fid : float\n",
    "    opt_mean_fid : float    \n",
    "\n",
    "\n",
    "\n",
    "def postanalyze(analysis : AnalysisData):\n",
    "    #TODO: unitary rotation matching ... copy if from my github\n",
    "    return PostAnalysisData(\n",
    "        nai_min_pur = np.min(analysis.pur_naive),\n",
    "        nai_ptp_pur = np.ptp(analysis.pur_naive),\n",
    "        tru_min_pur = np.min(analysis.pur_true),\n",
    "        tru_ptp_pur = np.ptp(analysis.pur_true),\n",
    "        opt_min_pur = np.min(analysis.pur_opt),\n",
    "        opt_ptp_pur = np.ptp(analysis.pur_opt),\n",
    "        nai_min_fid = np.min(analysis.fid_naive),\n",
    "        nai_mean_fid = np.mean(analysis.fid_naive),\n",
    "        tru_min_fid = np.min(analysis.fid_true),\n",
    "        tru_mean_fid = np.mean(analysis.fid_true),\n",
    "        opt_min_fid = np.min(analysis.fid_opt),\n",
    "        opt_mean_fid = np.mean(analysis.fid_opt)\n",
    "    )\n",
    "\n",
    "def preanalyze(tomos, optim_err, true_err, reference_kets, fix_rot=False):\n",
    "    selected_test_probe_indices = [0, 5, 10]\n",
    "    \n",
    "\n",
    "    pi_opt = get_assumed_rpv(optim_err)\n",
    "    pi_true = get_assumed_rpv(true_err)\n",
    "    pi_naive = get_assumed_rpv(np.zeros(12))\n",
    "    rho_opt = map_tomograms(tomos, pi_opt)\n",
    "    rho_true = map_tomograms(tomos, pi_true)\n",
    "    rho_naive = map_tomograms(tomos, pi_naive)\n",
    "\n",
    "    Urot = np.eye(2)\n",
    "    if fix_rot:\n",
    "        desired_kets = [reference_kets[i] for i in selected_test_probe_indices]\n",
    "        Urot = try_to_fix_unitary(desired_kets, rho_opt[selected_test_probe_indices])        \n",
    "        rho_opt = np.array([ks.ApplyOp(r, Urot) for r in rho_opt])\n",
    "\n",
    "    purs_naive = np.array([ks.Purity(r).real for r in rho_naive])\n",
    "    purs_true = np.array([ks.Purity(r).real for r in rho_true])\n",
    "    purs_opt = np.array([ks.Purity(r).real for r in rho_opt])\n",
    "\n",
    "    fids_naive = np.array([ks.ExpectationValue(k, r).real for k, r in zip(reference_kets, rho_naive)])\n",
    "    fids_true = np.array([ks.ExpectationValue(k, r).real for k, r in zip(reference_kets, rho_true)])\n",
    "    fids_opt = np.array([ks.ExpectationValue(k, r).real for k, r in zip(reference_kets, rho_opt)])\n",
    "\n",
    "    return AnalysisData(\n",
    "        pur_naive = purs_naive,\n",
    "        pur_true = purs_true,\n",
    "        pur_opt = purs_opt,\n",
    "        fid_naive = fids_naive,\n",
    "        fid_true = fids_true,\n",
    "        fid_opt = fids_opt,\n",
    "        rhos_opt = rho_opt,\n",
    "        rot_op=Urot\n",
    "    )\n",
    "\n",
    "def generate_tests(reference_coords, pis, shots):\n",
    "    tomograms = []\n",
    "    noise = 0.001\n",
    "    reference_kets = []\n",
    "    for theta, phi in reference_coords:\n",
    "        probe_ket = ks.BlochKet(theta, phi)\n",
    "        reference_kets.append(probe_ket)\n",
    "        tomogram = np.array([ks.ExpectationValue(probe_ket, proj).real for proj in pis])         \n",
    "        tomograms.append(tomogram*(1-noise) + noise)\n",
    "    tomograms = np.array(tomograms)\n",
    "    return np.random.poisson(tomograms*shots), np.array(reference_kets)\n",
    "\n",
    "def analyze_tests(reference_coords, shots, optim_err, true_err, Urot=None):    \n",
    "    pi_true = get_assumed_rpv(true_err)\n",
    "    tomograms, reference_kets = generate_tests(reference_coords, pi_true, shots)\n",
    "    analyzed = preanalyze(tomograms, optim_err, true_err, reference_kets, False)\n",
    "    if Urot is not None:\n",
    "        analyzed.rhos_opt = np.array([ks.ApplyOp(r, Urot) for r in analyzed.rhos_opt])\n",
    "    return analyzed\n",
    "\n",
    "def analyze_data(input_data_file, output_data_file, shots):\n",
    "    inp_datas = np.load(input_data_file)\n",
    "    calibration_tomos = inp_datas['test_data']\n",
    "    true_value = inp_datas['truths']\n",
    "    opt_results = np.genfromtxt(output_data_file)\n",
    "    opt_params = opt_results[:, 2:]\n",
    "    n = min(calibration_tomos.shape[0], opt_results.shape[0])\n",
    "    results = []\n",
    "    for index in tqdm(range(n)):\n",
    "        # print(index, end='\\r')\n",
    "        calib_analysis = preanalyze(calibration_tomos[index], opt_params[index], true_value[index], cal_states, True)                \n",
    "        test_analysis = analyze_tests(cal_sampl, shots, opt_params[index], true_value[index], calib_analysis.rot_op)\n",
    "        post_calib_analysis = postanalyze(calib_analysis)\n",
    "        post_test_analysis = postanalyze(test_analysis)\n",
    "        results.append((post_calib_analysis, post_test_analysis))\n",
    "    # print('.')\n",
    "    return results\n",
    "\n",
    "def analyze_bulk(results : list[PostAnalysisData]):\n",
    "    print(\"Minimum purity:\")\n",
    "    nai_min_pur = np.array([(r_cal.nai_min_pur, r_test.nai_min_pur) for r_cal, r_test in results])\n",
    "    mu_nai_min_pur = np.mean(nai_min_pur, axis=0)\n",
    "    std_nai_min_pur = np.std(nai_min_pur, axis=0)\n",
    "\n",
    "    print('Naive approach')\n",
    "    print(f'Calib set: {mu_nai_min_pur[0]:.3e}+/-{std_nai_min_pur[0]:.3e}')\n",
    "    print(f'Test set : {mu_nai_min_pur[1]:.3e}+/-{std_nai_min_pur[1]:.3e}')\n",
    "\n",
    "    tru_min_pur = np.array([(r_cal.tru_min_pur , r_test.tru_min_pur) for r_cal, r_test in results])\n",
    "    mu_tru_min_pur = np.mean(tru_min_pur, axis=0)\n",
    "    std_tru_min_pur = np.std(tru_min_pur, axis=0)\n",
    "\n",
    "    print('With true parameters')\n",
    "    print(f'Calib set: {mu_tru_min_pur[0]:.3e}+/-{std_tru_min_pur[0]:.3e}')\n",
    "    print(f'Test set : {mu_tru_min_pur[1]:.3e}+/-{std_tru_min_pur[1]:.3e}')\n",
    "\n",
    "    opt_min_pur = np.array([(r_cal.opt_min_pur , r_test.opt_min_pur) for r_cal, r_test in results])\n",
    "    mu_opt_min_pur = np.mean(opt_min_pur, axis=0)\n",
    "    std_opt_min_pur = np.std(opt_min_pur, axis=0)\n",
    "\n",
    "    print('With found parameters')\n",
    "    print(f'Calib set: {mu_opt_min_pur[0]:.3e}+/-{std_opt_min_pur[0]:.3e}')\n",
    "    print(f'Test set : {mu_opt_min_pur[1]:.3e}+/-{std_opt_min_pur[1]:.3e}')    \n",
    "\n",
    "    print(\"\\nMinimum fidelity:\")\n",
    "    nai_min_fid = np.array([(r_cal.nai_min_fid, r_test.nai_min_fid) for r_cal, r_test in results])\n",
    "    mu_nai_min_fid = np.mean(nai_min_fid, axis=0)\n",
    "    std_nai_min_fid = np.std(nai_min_fid, axis=0)\n",
    "\n",
    "    print('Naive approach')\n",
    "    print(f'Calib set: {mu_nai_min_fid[0]:.3e}+/-{std_nai_min_fid[0]:.3e}')\n",
    "    print(f'Test set : {mu_nai_min_fid[1]:.3e}+/-{std_nai_min_fid[1]:.3e}')\n",
    "\n",
    "    tru_min_fid = np.array([(r_cal.tru_min_fid , r_test.tru_min_fid) for r_cal, r_test in results])\n",
    "    mu_tru_min_fid = np.mean(tru_min_fid, axis=0)\n",
    "    std_tru_min_fid = np.std(tru_min_fid, axis=0)\n",
    "\n",
    "    print('With true parameters')\n",
    "    print(f'Calib set: {mu_tru_min_fid[0]:.3e}+/-{std_tru_min_fid[0]:.3e}')\n",
    "    print(f'Test set : {mu_tru_min_fid[1]:.3e}+/-{std_tru_min_fid[1]:.3e}')\n",
    "\n",
    "    opt_min_fid = np.array([(r_cal.opt_min_fid , r_test.opt_min_fid) for r_cal, r_test in results])\n",
    "    mu_opt_min_fid = np.mean(opt_min_fid, axis=0)\n",
    "    std_opt_min_fid = np.std(opt_min_fid, axis=0)\n",
    "\n",
    "    print('With found parameters')\n",
    "    print(f'Calib set: {mu_opt_min_fid[0]:.3e}+/-{std_opt_min_fid[0]:.3e}')\n",
    "    print(f'Test set : {mu_opt_min_fid[1]:.3e}+/-{std_opt_min_fid[1]:.3e}')\n",
    "\n",
    "    return np.array(\n",
    "        [[\n",
    "        [mu_nai_min_pur, std_nai_min_pur],\n",
    "        [mu_tru_min_pur, std_tru_min_pur],\n",
    "        [mu_opt_min_pur, std_opt_min_pur]\n",
    "        ],\n",
    "        [\n",
    "        [mu_nai_min_fid, std_nai_min_fid],\n",
    "        [mu_tru_min_fid, std_tru_min_fid],\n",
    "        [mu_opt_min_fid, std_opt_min_fid]\n",
    "        ]])\n",
    "\n",
    "# pur/fid, nai/tru/opt, cal/test, mean/std\n",
    "    "
   ]
  },
  {
   "cell_type": "code",
   "execution_count": 4,
   "id": "25984ba3",
   "metadata": {},
   "outputs": [
    {
     "name": "stdout",
     "output_type": "stream",
     "text": [
      "100 100\n"
     ]
    },
    {
     "data": {
      "application/vnd.jupyter.widget-view+json": {
       "model_id": "86abe4a39d934cc481f0d0c2c4145a47",
       "version_major": 2,
       "version_minor": 0
      },
      "text/plain": [
       "  0%|          | 0/50 [00:00<?, ?it/s]"
      ]
     },
     "metadata": {},
     "output_type": "display_data"
    },
    {
     "name": "stdout",
     "output_type": "stream",
     "text": [
      "Minimum purity:\n",
      "Naive approach\n",
      "Calib set: 8.433e-01+/-4.221e-02\n",
      "Test set : 8.558e-01+/-3.766e-02\n",
      "With true parameters\n",
      "Calib set: 8.650e-01+/-3.711e-02\n",
      "Test set : 8.774e-01+/-3.364e-02\n",
      "With found parameters\n",
      "Calib set: 9.592e-01+/-2.479e-02\n",
      "Test set : 8.540e-01+/-5.026e-02\n",
      "\n",
      "Minimum fidelity:\n",
      "Naive approach\n",
      "Calib set: 9.080e-01+/-2.618e-02\n",
      "Test set : 9.127e-01+/-2.248e-02\n",
      "With true parameters\n",
      "Calib set: 9.230e-01+/-2.273e-02\n",
      "Test set : 9.271e-01+/-2.052e-02\n",
      "With found parameters\n",
      "Calib set: 9.335e-01+/-2.957e-02\n",
      "Test set : 8.940e-01+/-3.027e-02\n",
      "1000 1k\n"
     ]
    },
    {
     "data": {
      "application/vnd.jupyter.widget-view+json": {
       "model_id": "a341dde616384cef83f7bd6e2ce7fe0f",
       "version_major": 2,
       "version_minor": 0
      },
      "text/plain": [
       "  0%|          | 0/50 [00:00<?, ?it/s]"
      ]
     },
     "metadata": {},
     "output_type": "display_data"
    },
    {
     "name": "stdout",
     "output_type": "stream",
     "text": [
      "Minimum purity:\n",
      "Naive approach\n",
      "Calib set: 9.067e-01+/-2.477e-02\n",
      "Test set : 9.068e-01+/-2.629e-02\n",
      "With true parameters\n",
      "Calib set: 9.544e-01+/-1.056e-02\n",
      "Test set : 9.580e-01+/-1.005e-02\n",
      "With found parameters\n",
      "Calib set: 9.774e-01+/-4.924e-03\n",
      "Test set : 9.451e-01+/-1.479e-02\n",
      "\n",
      "Minimum fidelity:\n",
      "Naive approach\n",
      "Calib set: 9.488e-01+/-1.399e-02\n",
      "Test set : 9.490e-01+/-1.498e-02\n",
      "With true parameters\n",
      "Calib set: 9.761e-01+/-5.628e-03\n",
      "Test set : 9.781e-01+/-5.340e-03\n",
      "With found parameters\n",
      "Calib set: 9.850e-01+/-4.630e-03\n",
      "Test set : 9.646e-01+/-1.289e-02\n",
      "10000 10k\n"
     ]
    },
    {
     "data": {
      "application/vnd.jupyter.widget-view+json": {
       "model_id": "ce5da235246c40ef937df8deaadd5827",
       "version_major": 2,
       "version_minor": 0
      },
      "text/plain": [
       "  0%|          | 0/50 [00:00<?, ?it/s]"
      ]
     },
     "metadata": {},
     "output_type": "display_data"
    },
    {
     "name": "stdout",
     "output_type": "stream",
     "text": [
      "Minimum purity:\n",
      "Naive approach\n",
      "Calib set: 9.184e-01+/-2.171e-02\n",
      "Test set : 9.178e-01+/-2.197e-02\n",
      "With true parameters\n",
      "Calib set: 9.840e-01+/-3.918e-03\n",
      "Test set : 9.847e-01+/-2.772e-03\n",
      "With found parameters\n",
      "Calib set: 9.896e-01+/-2.184e-03\n",
      "Test set : 9.803e-01+/-4.592e-03\n",
      "\n",
      "Minimum fidelity:\n",
      "Naive approach\n",
      "Calib set: 9.560e-01+/-1.206e-02\n",
      "Test set : 9.556e-01+/-1.201e-02\n",
      "With true parameters\n",
      "Calib set: 9.919e-01+/-1.994e-03\n",
      "Test set : 9.923e-01+/-1.406e-03\n",
      "With found parameters\n",
      "Calib set: 9.943e-01+/-1.555e-03\n",
      "Test set : 9.859e-01+/-6.156e-03\n",
      "100000 100k\n"
     ]
    },
    {
     "data": {
      "application/vnd.jupyter.widget-view+json": {
       "model_id": "f87858df51a04951926df1c4cc2c5872",
       "version_major": 2,
       "version_minor": 0
      },
      "text/plain": [
       "  0%|          | 0/50 [00:00<?, ?it/s]"
      ]
     },
     "metadata": {},
     "output_type": "display_data"
    },
    {
     "name": "stdout",
     "output_type": "stream",
     "text": [
      "Minimum purity:\n",
      "Naive approach\n",
      "Calib set: 9.194e-01+/-2.450e-02\n",
      "Test set : 9.197e-01+/-2.405e-02\n",
      "With true parameters\n",
      "Calib set: 9.934e-01+/-1.290e-03\n",
      "Test set : 9.937e-01+/-9.122e-04\n",
      "With found parameters\n",
      "Calib set: 9.935e-01+/-1.967e-03\n",
      "Test set : 9.910e-01+/-2.165e-03\n",
      "\n",
      "Minimum fidelity:\n",
      "Naive approach\n",
      "Calib set: 9.567e-01+/-1.332e-02\n",
      "Test set : 9.568e-01+/-1.301e-02\n",
      "With true parameters\n",
      "Calib set: 9.967e-01+/-6.501e-04\n",
      "Test set : 9.968e-01+/-4.588e-04\n",
      "With found parameters\n",
      "Calib set: 9.965e-01+/-1.051e-03\n",
      "Test set : 9.893e-01+/-7.260e-03\n"
     ]
    }
   ],
   "source": [
    "cnts_quantifier = '100k'\n",
    "quants = ['100', '1k', '10k', '100k']\n",
    "cnts = [100, 1000, 10_000, 100_000]\n",
    "\n",
    "results_collection = []\n",
    "for cnt, qant in zip(cnts, quants):\n",
    "    print(cnt, qant)\n",
    "    r = analyze_bulk(analyze_data(f'inputs/test_data_n32_5sigma_{qant}.npz', f'outputs/{qant}_results_n32.txt', cnt))\n",
    "    results_collection.append(r)\n",
    "results_collection = np.array(results_collection)"
   ]
  },
  {
   "cell_type": "code",
   "execution_count": 5,
   "id": "5e60f4c4",
   "metadata": {},
   "outputs": [
    {
     "data": {
      "text/plain": [
       "(4, 2, 3, 2, 2)"
      ]
     },
     "execution_count": 5,
     "metadata": {},
     "output_type": "execute_result"
    }
   ],
   "source": [
    "results_collection.shape"
   ]
  },
  {
   "cell_type": "code",
   "execution_count": 6,
   "id": "11b3688f",
   "metadata": {},
   "outputs": [
    {
     "data": {
      "text/plain": [
       "array([[[0.8433297 , 0.85583296],\n",
       "        [0.04221288, 0.03766274]],\n",
       "\n",
       "       [[0.86497467, 0.87739655],\n",
       "        [0.03711317, 0.03363857]],\n",
       "\n",
       "       [[0.95920448, 0.85395667],\n",
       "        [0.02478752, 0.05026255]]])"
      ]
     },
     "execution_count": 6,
     "metadata": {},
     "output_type": "execute_result"
    }
   ],
   "source": [
    "results_collection[0][0]"
   ]
  },
  {
   "cell_type": "code",
   "execution_count": 7,
   "id": "74cc053c",
   "metadata": {},
   "outputs": [],
   "source": [
    "import matplotlib\n",
    "matplotlib.rcParams.update({'errorbar.capsize': 2})"
   ]
  },
  {
   "cell_type": "code",
   "execution_count": 11,
   "id": "0597d243",
   "metadata": {},
   "outputs": [
    {
     "data": {
      "image/png": "[encoded data removed]",
      "text/plain": [
       "<Figure size 640x480 with 2 Axes>"
      ]
     },
     "metadata": {},
     "output_type": "display_data"
    }
   ],
   "source": [
    "\n",
    "# pur/fid, nai/tru/opt, cal/test, mean/std\n",
    "fig, (ax1, ax2) = plt.subplots(2,1, sharex=True)\n",
    "\n",
    "for i, label in enumerate(('naive','true', 'optimal')):\n",
    "    x_vis_offset = (1+i/16)\n",
    "    ax1.errorbar(x = np.array(cnts)*x_vis_offset, y = results_collection[:, 0, i, 0, 1], yerr = results_collection[:, 0, i, 1, 1], fmt=\"o\", label=label)\n",
    "    ax1.set_xscale('log')\n",
    "ax1.legend()\n",
    "ax1.grid()\n",
    "ax1.set_ylabel('$\\min\\,P$')\n",
    "\n",
    "for i, label in enumerate(('naive','true', 'optimal')):\n",
    "    x_vis_offset = (1+i/16)\n",
    "    ax2.errorbar(x = np.array(cnts)*x_vis_offset, y = results_collection[:, 1, i, 0, 1], yerr = results_collection[:, 1, i, 1, 1], fmt=\"o\", label=label)\n",
    "    ax2.set_xscale('log')\n",
    "# ax2.legend()\n",
    "ax2.set_xlabel('counts')\n",
    "ax2.set_ylabel('$\\min\\,F$')\n",
    "ax2.grid()\n",
    "plt.tight_layout()\n",
    "plt.show()"
   ]
  },
  {
   "cell_type": "code",
   "execution_count": null,
   "id": "eef769c6",
   "metadata": {},
   "outputs": [],
   "source": []
  }
 ],
 "metadata": {
  "kernelspec": {
   "display_name": "base",
   "language": "python",
   "name": "python3"
  },
  "language_info": {
   "codemirror_mode": {
    "name": "ipython",
    "version": 3
   },
   "file_extension": ".py",
   "mimetype": "text/x-python",
   "name": "python",
   "nbconvert_exporter": "python",
   "pygments_lexer": "ipython3",
   "version": "3.9.13"
  }
 },
 "nbformat": 4,
 "nbformat_minor": 5
}
