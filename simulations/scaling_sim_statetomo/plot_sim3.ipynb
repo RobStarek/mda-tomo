{
 "cells": [
  {
   "cell_type": "code",
   "execution_count": 5,
   "id": "2fbc76ae-2137-4ccb-8ef7-0e3df3b15ff1",
   "metadata": {},
   "outputs": [],
   "source": [
    "from enum import IntEnum\n",
    "from time import time\n",
    "# from tqdm._tqdm_notebook import tqdm\n",
    "import numpy as np\n",
    "import matplotlib as mpl\n",
    "import matplotlib.pyplot as plt\n",
    "import KetSugar as ks\n",
    "# import MaxLik as ml\n",
    "\n",
    "#note: np.savez(f'saved_samples_q{qubits}.npz', naive=naive_rec, calib=tru_rec, reference=kets)"
   ]
  },
  {
   "cell_type": "code",
   "execution_count": 6,
   "id": "8590b451-57c0-432c-8cc5-45245d024995",
   "metadata": {},
   "outputs": [],
   "source": [
    "class Columns(IntEnum):\n",
    "    qubits = 0\n",
    "    pur_nai_mu = 1\n",
    "    pur_nai_q1 = 2\n",
    "    pur_nai_q2 = 3\n",
    "    pur_cal_mu = 4\n",
    "    pur_cal_q1 = 5\n",
    "    pur_cal_q2 = 6\n",
    "    fid_nai_mu = 7\n",
    "    fid_nai_q1 = 8\n",
    "    fid_nai_q2 = 9\n",
    "    fid_cal_mu = 10\n",
    "    fid_cal_q1 = 11\n",
    "    fid_cal_q2 = 12\n",
    "\n",
    "QUBITS = [1,2,3,4,5]\n",
    "table = np.zeros((len(QUBITS), len(Columns)))\n",
    "Quant1 = 0.158\n",
    "Quant2 = 1 - Quant1\n",
    "\n",
    "for i, qubits in enumerate(QUBITS):\n",
    "    rhos_naive = np.load(f'saved_samples_q{qubits}.npz')['naive']\n",
    "    rhos_calib = np.load(f'saved_samples_q{qubits}.npz')['calib']\n",
    "    ket_reference = np.load(f'saved_samples_q{qubits}.npz')['reference']\n",
    "    dim = ket_reference.shape[1]\n",
    "    rho_reference = np.array([ks.ketbra(k,k) for k in ket_reference.reshape((-1,dim,1))])\n",
    "    \n",
    "    purities_naive = np.einsum('kij,kji->k', rhos_naive, rhos_naive).real\n",
    "    purities_calib = np.einsum('kij,kji->k', rhos_calib, rhos_calib).real\n",
    "\n",
    "    table[i, Columns.qubits] = qubits\n",
    "    table[i, Columns.pur_nai_mu] = np.median(purities_naive) #purities_nai_mu \n",
    "    table[i, Columns.pur_nai_q1] = np.quantile(purities_naive, Quant1) #purities_nai_std\n",
    "    table[i, Columns.pur_nai_q2] = np.quantile(purities_naive, Quant2) #purities_nai_std\n",
    "    \n",
    "    table[i, Columns.pur_cal_mu] = np.median(purities_calib) #purities_cal_mu\n",
    "    table[i, Columns.pur_cal_q1] = np.quantile(purities_calib, Quant1) #purities_cal_std\n",
    "    table[i, Columns.pur_cal_q2] = np.quantile(purities_calib, Quant2) #purities_cal_std\n",
    "    \n",
    "    fid_nai = np.einsum('kij,kji->k', rho_reference, rhos_naive).real\n",
    "    fid_cal = np.einsum('kij,kji->k', rho_reference, rhos_calib).real\n",
    "    table[i, Columns.fid_cal_mu] = np.median(fid_cal) #fids_cal_mu\n",
    "    table[i, Columns.fid_cal_q1] = np.quantile(fid_cal, Quant1) #fids_cal_std\n",
    "    table[i, Columns.fid_cal_q2] = np.quantile(fid_cal, Quant2) #fids_cal_std\n",
    "    \n",
    "    table[i, Columns.fid_nai_mu] = np.median(fid_nai) #fids_cal_mu\n",
    "    table[i, Columns.fid_nai_q1] = np.quantile(fid_nai, Quant1) #fids_cal_std\n",
    "    table[i, Columns.fid_nai_q2] = np.quantile(fid_nai, Quant2) #fids_cal_std\n",
    "\n"
   ]
  },
  {
   "cell_type": "code",
   "execution_count": 57,
   "id": "25d816d2",
   "metadata": {},
   "outputs": [
    {
     "name": "stdout",
     "output_type": "stream",
     "text": [
      "0.8629137338370538 0.925638073302594\n"
     ]
    }
   ],
   "source": [
    "rhos_nai = np.load('saved_samples_q1.npz')['naive']\n",
    "ket_reference = np.load('saved_samples_q1.npz')['reference'].reshape((-1,2,1))\n",
    "purities_naive = np.einsum('ijk,ikj->i', rhos_nai, rhos_nai).real #'kij,kji->k'\n",
    "argmin = np.argmin(purities_naive)\n",
    "rho_worst = rhos_nai[argmin]\n",
    "P_worst = purities_naive[argmin]\n",
    "rho_reference = ks.ketbra(ket_reference[argmin],ket_reference[argmin])\n",
    "F_worst = ks.Fidelity(rho_reference, rho_worst)\n",
    "print(P_worst, F_worst)"
   ]
  },
  {
   "cell_type": "code",
   "execution_count": 62,
   "id": "6bb0952c-8703-4c4b-9957-98bddfab7f0c",
   "metadata": {},
   "outputs": [
    {
     "data": {
      "image/png": "[encoded data removed]",
      "text/plain": [
       "<Figure size 350x350 with 2 Axes>"
      ]
     },
     "metadata": {},
     "output_type": "display_data"
    }
   ],
   "source": [
    "mpl.rcParams['text.usetex'] = True\n",
    "mpl.rcParams['font.size'] = 9\n",
    "mpl.rcParams['lines.linewidth'] = 1.5\n",
    "mpl.rcParams['figure.figsize'] = (3.5, 3.5)\n",
    "\n",
    "fig, ax = plt.subplots(2,1, sharex=True)\n",
    "#ax[0].plot(table[:, Columns.qubits], P_worst**table[:, Columns.qubits], \"--s\", c='0.5')\n",
    "ax[0].plot(table[:, Columns.qubits], P_worst**table[:, Columns.qubits], \"--s\", c='C0')\n",
    "ax[1].plot(table[:, Columns.qubits], F_worst**table[:, Columns.qubits], \"--s\", c='C0')\n",
    "\n",
    "ax[0].errorbar(\n",
    "    x = table[:, Columns.qubits],\n",
    "    y = table[:, Columns.pur_nai_mu], \n",
    "    yerr = (table[:, Columns.pur_nai_mu] - table[:, Columns.pur_nai_q1], table[:, Columns.pur_nai_q2] - table[:, Columns.pur_nai_mu]), \n",
    "    ls='', \n",
    "    marker=\"o\", \n",
    "    capsize=4\n",
    ")\n",
    "ax[0].errorbar(\n",
    "    x = table[:, Columns.qubits],\n",
    "    y = table[:, Columns.pur_cal_mu], \n",
    "    yerr = (table[:, Columns.pur_cal_mu] - table[:, Columns.pur_cal_q1], table[:, Columns.pur_cal_q2] - table[:, Columns.pur_cal_mu]), \n",
    "    ls='', \n",
    "    marker=\"o\", \n",
    "    capsize=4\n",
    ")\n",
    "ax[1].errorbar(\n",
    "    x = table[:, Columns.qubits],\n",
    "    y = table[:, Columns.fid_nai_mu], \n",
    "    yerr = (table[:, Columns.fid_nai_mu] - table[:, Columns.fid_nai_q1], table[:, Columns.fid_nai_q2] - table[:, Columns.fid_nai_mu]), \n",
    "    ls='', \n",
    "    marker=\"o\", \n",
    "    capsize=4\n",
    ")\n",
    "ax[1].errorbar(\n",
    "    x = table[:, Columns.qubits],\n",
    "    y = table[:, Columns.fid_cal_mu], \n",
    "    yerr = (table[:, Columns.fid_cal_mu] - table[:, Columns.fid_cal_q1], table[:, Columns.fid_cal_q2] - table[:, Columns.fid_cal_mu]), \n",
    "    ls='', \n",
    "    marker=\"o\", \n",
    "    capsize=4\n",
    ")\n",
    "\n",
    "ax[-1].set_xlabel('qubits')\n",
    "ax[0].set_ylabel('$P$')\n",
    "ax[1].set_ylabel('$F$')\n",
    "ax[1].set_xticks(QUBITS)\n",
    "ax[0].text(-0.25, 0.95, '(a)', transform=ax[0].transAxes,va='top', ha='left')\n",
    "ax[1].text(-0.25, 0.95, '(b)', transform=ax[1].transAxes, va='top', ha='left')\n",
    "plt.tight_layout()\n",
    "plt.show()"
   ]
  },
  {
   "cell_type": "code",
   "execution_count": null,
   "id": "1a8f3e67",
   "metadata": {},
   "outputs": [],
   "source": []
  }
 ],
 "metadata": {
  "kernelspec": {
   "display_name": "base",
   "language": "python",
   "name": "python3"
  },
  "language_info": {
   "codemirror_mode": {
    "name": "ipython",
    "version": 3
   },
   "file_extension": ".py",
   "mimetype": "text/x-python",
   "name": "python",
   "nbconvert_exporter": "python",
   "pygments_lexer": "ipython3",
   "version": "3.11.5"
  }
 },
 "nbformat": 4,
 "nbformat_minor": 5
}
