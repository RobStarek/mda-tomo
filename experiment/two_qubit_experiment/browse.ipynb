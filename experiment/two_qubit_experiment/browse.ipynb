{
 "cells": [
  {
   "cell_type": "code",
   "execution_count": 1,
   "source": [
    "import numpy as np\r\n",
    "import pandas as pd\r\n",
    "import KetSugar as ks #my own syntatic sugar for numpy-based quantum mechanics\r\n",
    "import MaxLik as ml #my own maxlik reconstruction library\r\n",
    "import matplotlib.pyplot as plt\r\n",
    "from scipy.optimize import minimize\r\n",
    "DEG = np.pi/180.\r\n",
    "btf = lambda x: ks.ketbra(x,x)\r\n",
    "\r\n",
    "def load_data(fnIN, CH):\r\n",
    "    if \".json\" in fnIN:\r\n",
    "        DAT = pd.read_json(fnIN, typ=\"series\", orient=\"records\")\r\n",
    "        DAT[\"Data\"] = np.array(DAT[\"Data\"])\r\n",
    "        Data = DAT[\"Data\"][:, CH]\r\n",
    "        return Data\r\n",
    "    else:\r\n",
    "        raise Exception('Type not supported')\r\n",
    "\r\n",
    "\r\n",
    "#Prepare projection definition for Maxlik\r\n",
    "#we reconstruct two-qubit states\r\n",
    "Q1 = [ks.LO, ks.HI, ks.HLO, ks.HHI, ks.CLO, ks.CHI]\r\n",
    "Q2 = [ks.LO, ks.HI, ks.HLO, ks.HHI, ks.CLO, ks.CHI]\r\n",
    "ORDER = [Q1, Q2]\r\n",
    "RPV = ml.MakeRPV(ORDER, False)\r\n",
    "\r\n",
    "\r\n",
    "\r\n",
    "#Load data \r\n",
    "fn = \"CaseEv4test.json\"\r\n",
    "datref = load_data(fn, 14)\r\n",
    "#reshape into individual tomograms\r\n",
    "#we have nx36 measurements in n tomograms\r\n",
    "length = datref.size\r\n",
    "tomogramsref = datref.reshape((length//36, 36))\r\n",
    "reconstructionsref = [ml.Reconstruct(tomogram, RPV, 1000, 1e-9) \\\r\n",
    "    for tomogram in tomogramsref]\r\n",
    "reconstructionsref = np.array(reconstructionsref)\r\n",
    "\r\n",
    "fn2 = \"CaseErefv3.json\"\r\n",
    "datref2 = load_data(fn2, 14)\r\n",
    "#reshape into individual tomograms\r\n",
    "#we have nx36 measurements in n tomograms\r\n",
    "length = datref2.size\r\n",
    "tomogramsref2 = datref2.reshape((length//36, 36))\r\n",
    "reconstructionsref2 = [ml.Reconstruct(tomogram, RPV, 1000, 1e-9) \\\r\n",
    "    for tomogram in tomogramsref2]\r\n",
    "reconstructionsref2 = np.array(reconstructionsref2)"
   ],
   "outputs": [
    {
     "output_type": "stream",
     "name": "stdout",
     "text": [
      "MaxLik: Numba Allowed: True => use cycle-based K-vector construction\n"
     ]
    }
   ],
   "metadata": {}
  },
  {
   "cell_type": "code",
   "execution_count": 11,
   "source": [
    "\r\n",
    "def theo_ket(x, y):\r\n",
    "    cx = np.cos(x)\r\n",
    "    sx = np.sin(x)\r\n",
    "    cy = np.cos(y)\r\n",
    "    sy = np.sin(y)\r\n",
    "    z = y/2 - np.pi/4\r\n",
    "\r\n",
    "    ket1 = np.array([cx,sx]).reshape((2,1)).astype(complex)\r\n",
    "    ket2 = np.array([cy,sy]).reshape((2,1)).astype(complex)\r\n",
    "    return np.kron(ket1, ket2)\r\n",
    "\r\n",
    "    vec = np.array([[\r\n",
    "        0,\r\n",
    "        -np.cos(x),\r\n",
    "        -np.cos(x),\r\n",
    "        -np.sqrt(1 - (1/np.tan(x))**2) * np.sin(x)\r\n",
    "    ]]).T\r\n",
    "    return vec/(ks.braket(vec, vec).real**0.5)\r\n",
    "\r\n",
    "\r\n",
    "xs2 = np.array(sorted(list(np.arange(45,55,0.5)*DEG) + list(np.arange(55,90,2)*DEG)))\r\n",
    "xs2[0] = xs2[0]+1e-4\r\n",
    "#test version - shorter\r\n",
    "xs = np.arange(55,90,2)*DEG\r\n",
    "\r\n",
    "ys = 0.5*np.arcsin(1/np.tan(xs))\r\n",
    "ys2 = 0.5*np.arcsin(1/np.tan(xs2))\r\n"
   ],
   "outputs": [],
   "metadata": {}
  },
  {
   "cell_type": "code",
   "execution_count": 12,
   "source": [
    "def theo_ket2(x, y):\r\n",
    "    cx = np.cos(x)\r\n",
    "    sx = np.sin(x)\r\n",
    "    cy = np.cos(y)\r\n",
    "    sy = -np.sin(y)\r\n",
    "    z = y/2 - np.pi/4\r\n",
    "\r\n",
    "    ket1 = np.array([cx,sx]).reshape((2,1)).astype(complex)\r\n",
    "    ket2 = np.array([cy,sy]).reshape((2,1)).astype(complex)\r\n",
    "    return np.kron(ket1, ket2)\r\n",
    "\r\n",
    "thrhos1 = np.array([btf(theo_ket2(x, y)) for x, y in zip(xs, ys)])\r\n",
    "thrhos2 = np.array([btf(theo_ket2(x, y)) for x, y in zip(xs2, ys2)])"
   ],
   "outputs": [],
   "metadata": {}
  },
  {
   "cell_type": "code",
   "execution_count": 13,
   "source": [
    "def shift_phase(rho_test, rho_ref):\r\n",
    "    def cost(x):\r\n",
    "        f1 = np.exp(x[0]*1j)\r\n",
    "        f2 = np.exp(x[0]*1j)\r\n",
    "        u = np.diag([1, f2, f1, f1*f2])\r\n",
    "        r1 = ks.ApplyOp(rho_test, u)\r\n",
    "        return -ks.Overlap(r1, rho_ref).real\r\n",
    "    \r\n",
    "    R = minimize(cost, x0=(1*DEG, 5*DEG))\r\n",
    "    f1 = np.exp(R['x'][0]*1j)\r\n",
    "    f2 = np.exp(R['x'][0]*1j)    \r\n",
    "    u = np.diag([1, f2, f1, f1*f2])\r\n",
    "    return R['fun'], R['x'], ks.ApplyOp(rho_test, u)\r\n",
    "\r\n",
    "i = 0\r\n",
    "\r\n",
    "\r\n"
   ],
   "outputs": [],
   "metadata": {}
  },
  {
   "cell_type": "code",
   "execution_count": 20,
   "source": [
    "fids_cal = np.array([ks.Overlap(rth, rexp) for rth, rexp in zip(thrhos1, reconstructionsref)])\r\n",
    "fids_noncal = np.array([ks.Overlap(rth, rexp) for rth, rexp in zip(thrhos2, reconstructionsref2)])\r\n",
    "\r\n",
    "purs_cal = np.array([ks.Purity(rexp) for rexp in reconstructionsref])\r\n",
    "purs_noncal = np.array([ks.Purity(rexp) for rexp in reconstructionsref2])\r\n",
    "\r\n",
    "#the references were measured more densely near 50, while calibration test was done from 55 above.\r\n",
    "#let us plot only those points with a direct calibrated counter-part of avoid confusion\r\n",
    "sel = (xs2/DEG) >= 55\r\n",
    "\r\n",
    "fig, axs = plt.subplots(2, 1, figsize=(4, 3), sharex=True)\r\n",
    "\r\n",
    "axs[0].plot(xs2[sel]/DEG, fids_noncal[sel], \"s\", label='Non-calibrated')\r\n",
    "axs[0].plot(xs/DEG, fids_cal, \"o\", label='Calibrated')\r\n",
    "axs[0].set_xlim(50, 90)\r\n",
    "axs[0].set_ylabel('$F$')\r\n",
    "# axs[0].legend()\r\n",
    "\r\n",
    "axs[1].plot(xs2[sel]/DEG, purs_noncal[sel], \"s\", label='Non-calibrated')\r\n",
    "axs[1].plot(xs/DEG, purs_cal, \"o\", label='Calibrated')\r\n",
    "axs[1].set_xlim(52.5, 90)\r\n",
    "axs[1].set_xlabel('$x$ parameter [deg]')\r\n",
    "axs[1].set_ylabel('$P$')\r\n",
    "\r\n",
    "plt.tight_layout()\r\n",
    "plt.show()"
   ],
   "outputs": [
    {
     "output_type": "stream",
     "name": "stderr",
     "text": [
      "C:\\Users\\QOLO\\Anaconda3\\lib\\site-packages\\matplotlib\\cbook\\__init__.py:1298: ComplexWarning: Casting complex values to real discards the imaginary part\n",
      "  return np.asarray(x, float)\n"
     ]
    },
    {
     "output_type": "display_data",
     "data": {
      "image/png": "[encoded data removed]",
      "text/plain": [
       "<Figure size 288x216 with 2 Axes>"
      ]
     },
     "metadata": {
      "needs_background": "light"
     }
    }
   ],
   "metadata": {}
  }
 ],
 "metadata": {
  "kernelspec": {
   "name": "python3",
   "display_name": "Python 3.7.1 64-bit ('base': conda)"
  },
  "language_info": {
   "codemirror_mode": {
    "name": "ipython",
    "version": 3
   },
   "file_extension": ".py",
   "mimetype": "text/x-python",
   "name": "python",
   "nbconvert_exporter": "python",
   "pygments_lexer": "ipython3",
   "version": "3.7.1"
  },
  "interpreter": {
   "hash": "9edc0e85da01f36cb21954a38b5a549841b5633a9a4527f1fb430ae3c8ff1be1"
  }
 },
 "nbformat": 4,
 "nbformat_minor": 5
}